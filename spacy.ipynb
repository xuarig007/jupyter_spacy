import os
import spacy
nlp=spacy.load('en_core_web_sm')
nlp.pipe_names
